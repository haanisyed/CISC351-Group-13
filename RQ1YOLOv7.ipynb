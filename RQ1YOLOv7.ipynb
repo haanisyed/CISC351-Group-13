{
 "cells": [
  {
   "cell_type": "markdown",
   "id": "1054a7e5-6e58-44d3-b5ed-4764a0d2f3fe",
   "metadata": {},
   "source": [
    "<h1> YOLOv7 Custom Setup & Replication Guide </h1>\n",
    "<h3> Create the conda environment </h3>\n",
    "<p> Run the following commands in your terminal (not in the notebook), This will create a custom environment and allow you to select it as a kernel within Jupyter Notebook.</p>\n",
    "\n",
    "```bash\n",
    "conda create -n yolov7_custom python=3.9\n",
    "conda activate yolov7_custom\r\n",
    "pip install ipykerne\n",
    "python -m ipykernel install --user --name yolov7_custom --display-name \"YOLOv7 CUSTOM\"l\n"
   ]
  },
  {
   "cell_type": "markdown",
   "id": "bee02a04-ad16-4b90-9010-df58bcfbb221",
   "metadata": {},
   "source": [
    "<h3> Install the dataset </h3>\r\n",
    "We used the IPRPAS dataset available at: https://borealisdata.ca/dataset.xhtml?persistentId=doi:10.5683/SP3/O8DLSU\r\n",
    "The specific subset of images used is from the Left_images2 folder:\r\n",
    "Daytime: Images numbered from 1640 to 2107\r\n",
    "Nighttime: Images numbered from 3129 to 3408\r\n",
    "Ensure the selected images are organized accordingly in the appropriate folders for training and evaluation.\r\n"
   ]
  },
  {
   "cell_type": "markdown",
   "id": "eaa0d08c-198a-482d-aaf0-bcca0e622e4a",
   "metadata": {},
   "source": [
    "<h3> Directory Check and Installing Requirements</h3>\n",
    "Clone the YOLOv7 codebase from the official release: https://github.com/WongKinYiu/yolov7/releases\r\n",
    "\r\n",
    "Use two separate requirements files:\r\n",
    "\r\n",
    "requirements.txt — for core dependencies\r\n",
    "\r\n",
    "requirements_gpu.txt — for GPU-specific dependencies\r\n",
    "\r\n",
    "Having separate files is useful for debugging and resolving platform-specific issues.\r\n",
    "\r\n",
    "Ensure the file directory looks like the following:"
   ]
  },
  {
   "cell_type": "markdown",
   "id": "4c4f2a02-150c-410d-b5f6-bd7cdaa0b42d",
   "metadata": {},
   "source": [
    "```bash\n",
    "+---yolov7-custom\n",
    "    +---cfg\n",
    "    ¦   +---baseline\n",
    "    ¦   +---deploy\n",
    "    ¦   +---training\n",
    "    +---data\n",
    "    ¦   +---daytime\n",
    "    ¦   +---images\n",
    "    ¦   +---labels\n",
    "    ¦   +---nighttime\n",
    "    ¦   +---deploy\n",
    "    ¦   +---triton-inference-server\n",
    "    ¦       +---data\n",
    "    +---figure\n",
    "    +---inference\n",
    "    ¦   +---images\n",
    "    +---Label\n",
    "    ¦   +---Label\n",
    "    +---Left_images2\n",
    "    ¦   +---Left_images2\n",
    "    +---models\n",
    "    ¦   +---__pycache__\n",
    "    +---paper\n",
    "    +---scripts\n",
    "    +---tools\n",
    "    +---utils\n",
    "    ¦   +---aws\n",
    "    ¦   +---google_app_engine\n",
    "    ¦   +---wandb_logging\n",
    "    ¦   +---__pycache__\n",
    "    +---yolo_labels"
   ]
  },
  {
   "cell_type": "markdown",
   "id": "8db625f8-c7f3-46c5-8dde-9daf7b58afc2",
   "metadata": {},
   "source": [
    "The following code will then allow you to install the requiremnets as necessary and run the code on the two chosen subsets of images at different confident levels. Each run will create a separate folder of images in an new folder can \"Runs\". Within them you can observe what the model detected as a car and what it missed. The success for this project were manually counte as the number is pretty small but tfor future work, this may have to be automated. "
   ]
  },
  {
   "cell_type": "code",
   "execution_count": null,
   "id": "ac19cafe-808b-4ab4-ac25-39d38d91d29e",
   "metadata": {},
   "outputs": [],
   "source": [
    "!pip install -r requirements.txt\n",
    "!pip install -r reqirements_gpu.txt  \n"
   ]
  },
  {
   "cell_type": "code",
   "execution_count": null,
   "id": "77ca9b91-78ce-4aa9-b131-d6ddd5c435eb",
   "metadata": {},
   "outputs": [],
   "source": [
    "# Nighttime, conf 0.7\n",
    "!python detect.py --weights yolov7.pt --conf 0.7 --img-size 640 --source data/nighttime --view-img --no-trace\n"
   ]
  },
  {
   "cell_type": "code",
   "execution_count": null,
   "id": "53398567-73ee-441f-bcbc-dddd583d4059",
   "metadata": {},
   "outputs": [],
   "source": [
    "# Nighttime, conf 0.5\n",
    "!python detect.py --weights yolov7.pt --conf 0.5 --img-size 640 --source data/nighttime --view-img --no-trace"
   ]
  },
  {
   "cell_type": "code",
   "execution_count": null,
   "id": "e038c5dd-cee8-4cfb-834d-c199dd8c4361",
   "metadata": {},
   "outputs": [],
   "source": [
    "\n",
    "# Daytime, conf 0.7\n",
    "!python detect.py --weights yolov7.pt --conf 0.7 --img-size 640 --source data/daytime --view-img --no-trace"
   ]
  },
  {
   "cell_type": "code",
   "execution_count": null,
   "id": "869e4754-ddbc-4dc2-b2ad-5ab7d34b84e8",
   "metadata": {},
   "outputs": [],
   "source": [
    "\n",
    "# Daytime, conf 0.5\n",
    "!python detect.py --weights yolov7.pt --conf 0.5 --img-size 640 --source data/daytime --view-img --no-trace"
   ]
  }
 ],
 "metadata": {
  "kernelspec": {
   "display_name": "Python 3.9 (Data Analytics)",
   "language": "python",
   "name": "py39"
  },
  "language_info": {
   "codemirror_mode": {
    "name": "ipython",
    "version": 3
   },
   "file_extension": ".py",
   "mimetype": "text/x-python",
   "name": "python",
   "nbconvert_exporter": "python",
   "pygments_lexer": "ipython3",
   "version": "3.9.13"
  }
 },
 "nbformat": 4,
 "nbformat_minor": 5
}
